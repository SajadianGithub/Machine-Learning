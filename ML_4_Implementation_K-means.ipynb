{
 "cells": [
  {
   "cell_type": "code",
   "execution_count": 11,
   "metadata": {},
   "outputs": [],
   "source": [
    "import numpy as np"
   ]
  },
  {
   "cell_type": "code",
   "execution_count": 29,
   "metadata": {},
   "outputs": [],
   "source": [
    "import random\n",
    "from random import randrange, uniform\n",
    "\n",
    "class K_Meanspp:\n",
    "    def __init__(self, n_clusters=8, max_iter=300, tol = 0.001):\n",
    "        self.n_clusters = n_clusters\n",
    "        self.max_iter = max_iter\n",
    "        self.tol = tol\n",
    "\n",
    "    def euclidean(self, point, data):\n",
    "        \"\"\"\n",
    "        Euclidean distance between point & data.\n",
    "        Point has dimensions (m,), data has dimensions (n,m), and output will be of size (n,).\n",
    "        \"\"\"\n",
    "        return np.linalg.norm(point - data, axis=1)\n",
    "    \n",
    "    def update_clusters(self, X_train):\n",
    "            for i, x in enumerate(X_train):\n",
    "                dists = self.euclidean(x, self.centroids)\n",
    "                centroid_idx = np.argmin(dists)\n",
    "                self.lables_[i] = centroid_idx\n",
    "\n",
    "    def update_centers(self, X_train):\n",
    "        centers = np.copy(self.centroids)\n",
    "        for i in range(self.n_clusters):\n",
    "            centers[i] = np.mean(X_train[self.lables_ == i], axis=0)\n",
    "        return centers\n",
    "\n",
    "    def init_centers_pp(self, X_train):\n",
    "        list_cc = []\n",
    "        m, n = X_train.shape\n",
    "        # randrange gives you an integral value\n",
    "        irand = randrange(0, m)\n",
    "        list_cc.append(X_train[irand])\n",
    "\n",
    "        for i in range(1, self.n_clusters):\n",
    "            p = []\n",
    "            for i, x in enumerate(X_train):\n",
    "                dists = self.euclidean(x, list_cc)\n",
    "                centroid_idx = np.argmin(dists)\n",
    "                p.append(dists[centroid_idx])\n",
    "            p = p / sum(p)\n",
    "            ranindx = np.random.choice(np.arange(0, m), 1, p=p)\n",
    "            ranindx = ranindx[0]\n",
    "            list_cc.append(X_train[ranindx])\n",
    "            \n",
    "        self.centroids = np.asarray(list_cc)\n",
    "\n",
    "    def init_centers_rand(self, X_train):\n",
    "        m, n = X_train.shape\n",
    "        random_centers = random.sample(range(m), self.n_clusters)\n",
    "        self.centroids = X_train[random_centers, :]\n",
    "\n",
    "    def init_centers_rand2(self, X_train):\n",
    "        _, dim = X_train.shape\n",
    "        # Randomly select centroid start points, uniformly distributed across the domain of the dataset\n",
    "        min_, max_ = np.min(X_train, axis=0), np.max(X_train, axis=0)\n",
    "        self.centroids = np.zeros((self.n_clusters,dim))\n",
    "        for i in range(self.n_clusters):\n",
    "            self.centroids[i,:] = uniform(min_, max_)\n",
    "\n",
    "    def fit(self, X_train):\n",
    "        \n",
    "        num_data, dim = X_train.shape\n",
    "        self.init_centers_rand(X_train)\n",
    "        self.lables_ = np.zeros(num_data)\n",
    "        self.converged = False\n",
    "\n",
    "        for itration in range(self.max_iter):\n",
    "\n",
    "            self.update_clusters(X_train)\n",
    "            new_centers = self.update_centers(X_train)\n",
    "\n",
    "            for i, centroid in enumerate(new_centers):\n",
    "                if np.isnan(centroid).any():  # Catch any np.nans, resulting from a centroid having no points\n",
    "                    new_centers[i] = self.centroids[i]\n",
    "\n",
    "            update_changes = np.linalg.norm(new_centers - self.centroids)\n",
    "            if update_changes < self.tol:\n",
    "                self.converged = True\n",
    "                print(itration+1)\n",
    "                break        \n",
    "\n",
    "            self.centroids = new_centers\n",
    "        \n",
    "        if (not self.converged):\n",
    "            print(itration+1)\n",
    "\n",
    "    def predict(self, X_test):\n",
    "        X_test = np.asarray(X_test)\n",
    "        output = []\n",
    "        for x in X_test:\n",
    "            dists = self.euclidean(x, self.centroids)\n",
    "            centroid_idx = np.argmin(dists)\n",
    "            output.append(centroid_idx)\n",
    "        return output\n",
    "\n"
   ]
  },
  {
   "cell_type": "code",
   "execution_count": 13,
   "metadata": {},
   "outputs": [],
   "source": [
    "import pandas as pd\n",
    "df = pd.read_csv('urbanGB.all/urbanGB.txt', header=None, names=['x', 'y'])\n",
    "df_label = pd.read_csv('urbanGB.all/urbanGB.labels.txt', header=None, names=['label'])\n",
    "df = df.join(df_label)\n",
    "df = df.sample(150000, random_state=0).reset_index(drop=True)"
   ]
  },
  {
   "cell_type": "code",
   "execution_count": 14,
   "metadata": {},
   "outputs": [],
   "source": [
    "from sklearn.preprocessing import StandardScaler\n",
    "scaler = StandardScaler()\n",
    "standard_df = scaler.fit_transform(df.drop(['label'], axis=1))"
   ]
  },
  {
   "cell_type": "code",
   "execution_count": 15,
   "metadata": {},
   "outputs": [
    {
     "data": {
      "text/plain": [
       "17"
      ]
     },
     "execution_count": 15,
     "metadata": {},
     "output_type": "execute_result"
    }
   ],
   "source": [
    "from sklearn.cluster import KMeans\n",
    "kmeans = KMeans(n_clusters=5, random_state=0)\n",
    "kmeans = kmeans.fit(standard_df)\n",
    "kmeans.n_iter_"
   ]
  },
  {
   "cell_type": "code",
   "execution_count": 16,
   "metadata": {},
   "outputs": [],
   "source": [
    "sklrn_output = kmeans.predict(standard_df)"
   ]
  },
  {
   "cell_type": "code",
   "execution_count": 17,
   "metadata": {},
   "outputs": [
    {
     "data": {
      "text/plain": [
       "0.5246698433033801"
      ]
     },
     "execution_count": 17,
     "metadata": {},
     "output_type": "execute_result"
    }
   ],
   "source": [
    "import sklearn.metrics\n",
    "sklearn.metrics.silhouette_score(standard_df, sklrn_output)"
   ]
  },
  {
   "cell_type": "code",
   "execution_count": 26,
   "metadata": {},
   "outputs": [
    {
     "name": "stdout",
     "output_type": "stream",
     "text": [
      "11\n"
     ]
    }
   ],
   "source": [
    "kmeans = K_Meanspp(n_clusters=5)\n",
    "kmeans.fit(standard_df)"
   ]
  },
  {
   "cell_type": "code",
   "execution_count": 27,
   "metadata": {},
   "outputs": [],
   "source": [
    "my_output = kmeans.predict(standard_df)"
   ]
  },
  {
   "cell_type": "code",
   "execution_count": 28,
   "metadata": {},
   "outputs": [
    {
     "data": {
      "text/plain": [
       "0.5241432847796962"
      ]
     },
     "execution_count": 28,
     "metadata": {},
     "output_type": "execute_result"
    }
   ],
   "source": [
    "sklearn.metrics.silhouette_score(standard_df, my_output)"
   ]
  }
 ],
 "metadata": {
  "kernelspec": {
   "display_name": "Python 3",
   "language": "python",
   "name": "python3"
  },
  "language_info": {
   "codemirror_mode": {
    "name": "ipython",
    "version": 3
   },
   "file_extension": ".py",
   "mimetype": "text/x-python",
   "name": "python",
   "nbconvert_exporter": "python",
   "pygments_lexer": "ipython3",
   "version": "3.10.5"
  },
  "orig_nbformat": 4,
  "vscode": {
   "interpreter": {
    "hash": "0a2ce51783487cb738dcf95c986f48432f9d5d3f1a7ed222d040a760409c430c"
   }
  }
 },
 "nbformat": 4,
 "nbformat_minor": 2
}
