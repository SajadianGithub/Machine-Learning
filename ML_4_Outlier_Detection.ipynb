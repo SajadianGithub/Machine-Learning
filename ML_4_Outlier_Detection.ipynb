{
 "cells": [
  {
   "cell_type": "code",
   "execution_count": 47,
   "metadata": {},
   "outputs": [],
   "source": [
    "import pandas as pd\n",
    "import numpy as np\n",
    "from sklearn.metrics import confusion_matrix, ConfusionMatrixDisplay\n",
    "import matplotlib.pyplot as plt"
   ]
  },
  {
   "cell_type": "code",
   "execution_count": 48,
   "metadata": {},
   "outputs": [],
   "source": [
    "import scipy.io\n",
    "mat = scipy.io.loadmat('shuttle.mat')"
   ]
  },
  {
   "cell_type": "code",
   "execution_count": 49,
   "metadata": {},
   "outputs": [
    {
     "name": "stdout",
     "output_type": "stream",
     "text": [
      "<class 'dict'>\n"
     ]
    },
    {
     "data": {
      "text/plain": [
       "dict_keys(['__header__', '__version__', '__globals__', 'X', 'y'])"
      ]
     },
     "execution_count": 49,
     "metadata": {},
     "output_type": "execute_result"
    }
   ],
   "source": [
    "print(type(mat))\n",
    "mat.keys()"
   ]
  },
  {
   "cell_type": "code",
   "execution_count": 50,
   "metadata": {},
   "outputs": [
    {
     "data": {
      "text/plain": [
       "b'MATLAB 5.0 MAT-file, Platform: MACI64, Created on: Tue Apr 26 18:16:23 2016'"
      ]
     },
     "execution_count": 50,
     "metadata": {},
     "output_type": "execute_result"
    }
   ],
   "source": [
    "mat['__header__']"
   ]
  },
  {
   "cell_type": "code",
   "execution_count": 51,
   "metadata": {},
   "outputs": [
    {
     "data": {
      "text/plain": [
       "'1.0'"
      ]
     },
     "execution_count": 51,
     "metadata": {},
     "output_type": "execute_result"
    }
   ],
   "source": [
    "mat['__version__']"
   ]
  },
  {
   "cell_type": "code",
   "execution_count": 52,
   "metadata": {},
   "outputs": [
    {
     "data": {
      "text/plain": [
       "[]"
      ]
     },
     "execution_count": 52,
     "metadata": {},
     "output_type": "execute_result"
    }
   ],
   "source": [
    "mat['__globals__']"
   ]
  },
  {
   "cell_type": "code",
   "execution_count": 53,
   "metadata": {},
   "outputs": [],
   "source": [
    "data = mat['X']"
   ]
  },
  {
   "cell_type": "code",
   "execution_count": 54,
   "metadata": {},
   "outputs": [],
   "source": [
    "true_lable = mat['y']"
   ]
  },
  {
   "cell_type": "code",
   "execution_count": 55,
   "metadata": {},
   "outputs": [
    {
     "name": "stdout",
     "output_type": "stream",
     "text": [
      "(49097, 1)\n"
     ]
    }
   ],
   "source": [
    "print(true_lable.shape)"
   ]
  },
  {
   "cell_type": "code",
   "execution_count": 56,
   "metadata": {},
   "outputs": [],
   "source": [
    "true_lable = true_lable.flatten('F')"
   ]
  },
  {
   "cell_type": "code",
   "execution_count": 57,
   "metadata": {},
   "outputs": [
    {
     "name": "stdout",
     "output_type": "stream",
     "text": [
      "(49097,)\n"
     ]
    }
   ],
   "source": [
    "print(true_lable.shape)"
   ]
  },
  {
   "cell_type": "code",
   "execution_count": 58,
   "metadata": {},
   "outputs": [
    {
     "data": {
      "text/plain": [
       "{0: 45586, 1: 3511}"
      ]
     },
     "execution_count": 58,
     "metadata": {},
     "output_type": "execute_result"
    }
   ],
   "source": [
    "a , b = np.unique(true_lable, return_counts=True)\n",
    "dict(zip(a,b))"
   ]
  },
  {
   "cell_type": "code",
   "execution_count": 59,
   "metadata": {},
   "outputs": [],
   "source": [
    "from sklearn.preprocessing import StandardScaler\n",
    "learn_scaler=StandardScaler().fit(data)\n",
    "standard_data = learn_scaler.transform(data)"
   ]
  },
  {
   "cell_type": "code",
   "execution_count": 60,
   "metadata": {},
   "outputs": [],
   "source": [
    "from sklearn.cluster import KMeans\n",
    "\n",
    "kmeans = KMeans(n_clusters = 2, init = 'k-means++', random_state = 42)\n",
    "kmeans.fit(standard_data) \n",
    "predict_labels = kmeans.labels_"
   ]
  },
  {
   "cell_type": "code",
   "execution_count": 61,
   "metadata": {},
   "outputs": [
    {
     "data": {
      "text/plain": [
       "{False: 192, True: 48905}"
      ]
     },
     "execution_count": 61,
     "metadata": {},
     "output_type": "execute_result"
    }
   ],
   "source": [
    "a , b = np.unique(np.equal(predict_labels, true_lable), return_counts=True)\n",
    "clusters = dict(zip(a,b))\n",
    "\n",
    "zeross = np.zeros_like(predict_labels)\n",
    "oness = np.ones_like(predict_labels)\n",
    "\n",
    "if (True in clusters.keys()):\n",
    "    if (False in clusters.keys()):\n",
    "        if (clusters[False] > clusters[True]):\n",
    "            predict_labels = np.where(predict_labels == 1, zeross, oness)\n",
    "else:\n",
    "    predict_labels = np.where(predict_labels == 1, zeross, oness)\n",
    "\n",
    "\n",
    "\n",
    "a , b = np.unique(np.equal(predict_labels, true_lable), return_counts=True)\n",
    "clusters = dict(zip(a,b))\n",
    "clusters"
   ]
  },
  {
   "cell_type": "code",
   "execution_count": 62,
   "metadata": {},
   "outputs": [
    {
     "name": "stdout",
     "output_type": "stream",
     "text": [
      "              precision    recall  f1-score   support\n",
      "\n",
      "           0       1.00      1.00      1.00     45586\n",
      "           1       1.00      0.95      0.97      3511\n",
      "\n",
      "    accuracy                           1.00     49097\n",
      "   macro avg       1.00      0.97      0.98     49097\n",
      "weighted avg       1.00      1.00      1.00     49097\n",
      "\n"
     ]
    }
   ],
   "source": [
    "from sklearn.metrics import classification_report\n",
    "print(classification_report(true_lable, predict_labels))"
   ]
  },
  {
   "cell_type": "code",
   "execution_count": 63,
   "metadata": {},
   "outputs": [
    {
     "data": {
      "image/png": "[encoded data removed]",
      "text/plain": [
       "<Figure size 640x480 with 2 Axes>"
      ]
     },
     "metadata": {},
     "output_type": "display_data"
    }
   ],
   "source": [
    "cm = confusion_matrix(true_lable, predict_labels, labels=[0,1])\n",
    "disp = ConfusionMatrixDisplay(confusion_matrix=cm, display_labels=[0,1])\n",
    "disp.plot()\n",
    "plt.show() "
   ]
  },
  {
   "cell_type": "code",
   "execution_count": 64,
   "metadata": {},
   "outputs": [
    {
     "data": {
      "text/plain": [
       "array([1, 0, 0, ..., 0, 1, 0], dtype=int64)"
      ]
     },
     "execution_count": 64,
     "metadata": {},
     "output_type": "execute_result"
    }
   ],
   "source": [
    "from sklearn.mixture import GaussianMixture\n",
    "\n",
    "gm = GaussianMixture(n_components=2, random_state=42)\n",
    "gm.fit(standard_data) \n",
    "predict_labels = gm.predict(standard_data)\n",
    "predict_labels"
   ]
  },
  {
   "cell_type": "code",
   "execution_count": 65,
   "metadata": {},
   "outputs": [
    {
     "data": {
      "text/plain": [
       "{False: 512, True: 48585}"
      ]
     },
     "execution_count": 65,
     "metadata": {},
     "output_type": "execute_result"
    }
   ],
   "source": [
    "a , b = np.unique(np.equal(predict_labels, true_lable), return_counts=True)\n",
    "clusters = dict(zip(a,b))\n",
    "\n",
    "zeross = np.zeros_like(predict_labels)\n",
    "oness = np.ones_like(predict_labels)\n",
    "\n",
    "if (True in clusters.keys()):\n",
    "    if (False in clusters.keys()):\n",
    "        if (clusters[False] > clusters[True]):\n",
    "            predict_labels = np.where(predict_labels == 1, zeross, oness)\n",
    "else:\n",
    "    predict_labels = np.where(predict_labels == 1, zeross, oness)\n",
    "\n",
    "\n",
    "\n",
    "a , b = np.unique(np.equal(predict_labels, true_lable), return_counts=True)\n",
    "clusters = dict(zip(a,b))\n",
    "clusters"
   ]
  },
  {
   "cell_type": "code",
   "execution_count": 66,
   "metadata": {},
   "outputs": [
    {
     "name": "stdout",
     "output_type": "stream",
     "text": [
      "              precision    recall  f1-score   support\n",
      "\n",
      "           0       1.00      0.99      0.99     45586\n",
      "           1       0.87      1.00      0.93      3511\n",
      "\n",
      "    accuracy                           0.99     49097\n",
      "   macro avg       0.94      0.99      0.96     49097\n",
      "weighted avg       0.99      0.99      0.99     49097\n",
      "\n"
     ]
    }
   ],
   "source": [
    "print(classification_report(true_lable, predict_labels))"
   ]
  },
  {
   "cell_type": "code",
   "execution_count": 67,
   "metadata": {},
   "outputs": [
    {
     "data": {
      "image/png": "[encoded data removed]",
      "text/plain": [
       "<Figure size 640x480 with 2 Axes>"
      ]
     },
     "metadata": {},
     "output_type": "display_data"
    }
   ],
   "source": [
    "cm = confusion_matrix(true_lable, predict_labels, labels=[0,1])\n",
    "disp = ConfusionMatrixDisplay(confusion_matrix=cm, display_labels=[0,1])\n",
    "disp.plot()\n",
    "plt.show() "
   ]
  },
  {
   "cell_type": "code",
   "execution_count": 68,
   "metadata": {},
   "outputs": [
    {
     "name": "stderr",
     "output_type": "stream",
     "text": [
      "c:\\Users\\Hosein\\AppData\\Local\\Programs\\Python\\Python310\\lib\\site-packages\\sklearn\\manifold\\_spectral_embedding.py:259: UserWarning: Graph is not fully connected, spectral embedding may not work as expected.\n",
      "  warnings.warn(\n"
     ]
    }
   ],
   "source": [
    "from sklearn.cluster import SpectralClustering\n",
    "\n",
    "spectral = SpectralClustering(n_clusters=2, affinity='nearest_neighbors', random_state=0)\n",
    "\n",
    "clustering = spectral.fit(standard_data)\n",
    "predict_labels = clustering.labels_"
   ]
  },
  {
   "cell_type": "code",
   "execution_count": 69,
   "metadata": {},
   "outputs": [
    {
     "data": {
      "text/plain": [
       "{False: 4454, True: 44643}"
      ]
     },
     "execution_count": 69,
     "metadata": {},
     "output_type": "execute_result"
    }
   ],
   "source": [
    "a , b = np.unique(np.equal(predict_labels, true_lable), return_counts=True)\n",
    "clusters = dict(zip(a,b))\n",
    "\n",
    "zeross = np.zeros_like(predict_labels)\n",
    "oness = np.ones_like(predict_labels)\n",
    "\n",
    "if (True in clusters.keys()):\n",
    "    if (False in clusters.keys()):\n",
    "        if (clusters[False] > clusters[True]):\n",
    "            predict_labels = np.where(predict_labels == 1, zeross, oness)\n",
    "else:\n",
    "    predict_labels = np.where(predict_labels == 1, zeross, oness)\n",
    "\n",
    "\n",
    "\n",
    "a , b = np.unique(np.equal(predict_labels, true_lable), return_counts=True)\n",
    "clusters = dict(zip(a,b))\n",
    "clusters"
   ]
  },
  {
   "cell_type": "code",
   "execution_count": 70,
   "metadata": {},
   "outputs": [
    {
     "name": "stdout",
     "output_type": "stream",
     "text": [
      "              precision    recall  f1-score   support\n",
      "\n",
      "           0       0.93      0.98      0.95     45586\n",
      "           1       0.05      0.02      0.02      3511\n",
      "\n",
      "    accuracy                           0.91     49097\n",
      "   macro avg       0.49      0.50      0.49     49097\n",
      "weighted avg       0.87      0.91      0.89     49097\n",
      "\n"
     ]
    }
   ],
   "source": [
    "print(classification_report(true_lable, predict_labels))"
   ]
  },
  {
   "cell_type": "code",
   "execution_count": 71,
   "metadata": {},
   "outputs": [
    {
     "data": {
      "image/png": "[encoded data removed]",
      "text/plain": [
       "<Figure size 640x480 with 2 Axes>"
      ]
     },
     "metadata": {},
     "output_type": "display_data"
    }
   ],
   "source": [
    "cm = confusion_matrix(true_lable, predict_labels, labels=[0,1])\n",
    "disp = ConfusionMatrixDisplay(confusion_matrix=cm, display_labels=[0,1])\n",
    "disp.plot()\n",
    "plt.show() "
   ]
  }
 ],
 "metadata": {
  "kernelspec": {
   "display_name": "Python 3",
   "language": "python",
   "name": "python3"
  },
  "language_info": {
   "codemirror_mode": {
    "name": "ipython",
    "version": 3
   },
   "file_extension": ".py",
   "mimetype": "text/x-python",
   "name": "python",
   "nbconvert_exporter": "python",
   "pygments_lexer": "ipython3",
   "version": "3.10.5"
  },
  "orig_nbformat": 4,
  "vscode": {
   "interpreter": {
    "hash": "0a2ce51783487cb738dcf95c986f48432f9d5d3f1a7ed222d040a760409c430c"
   }
  }
 },
 "nbformat": 4,
 "nbformat_minor": 2
}
