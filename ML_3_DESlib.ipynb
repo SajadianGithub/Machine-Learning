{
 "cells": [
  {
   "cell_type": "code",
   "execution_count": 31,
   "metadata": {},
   "outputs": [],
   "source": [
    "import numpy as np \n",
    "import pandas as pd \n",
    "from sklearn import preprocessing\n",
    "from sklearn.preprocessing import StandardScaler\n",
    "from sklearn.model_selection import train_test_split\n",
    "from sklearn.linear_model import Perceptron\n",
    "from sklearn.calibration import CalibratedClassifierCV\n",
    "from sklearn.ensemble import BaggingClassifier\n",
    "from deslib.des.knop import KNOP\n",
    "from sklearn.metrics import classification_report\n",
    "from sklearn.metrics import precision_recall_fscore_support as score\n",
    "from sklearn.metrics import confusion_matrix, ConfusionMatrixDisplay\n",
    "import matplotlib.pyplot as plt"
   ]
  },
  {
   "cell_type": "code",
   "execution_count": 32,
   "metadata": {},
   "outputs": [],
   "source": [
    "data = 'Adult_TrainDataset.csv'\n",
    "\n",
    "df = pd.read_csv(data)\n",
    "\n",
    "df.replace(' ?', np.nan, inplace=True)"
   ]
  },
  {
   "cell_type": "code",
   "execution_count": 33,
   "metadata": {},
   "outputs": [],
   "source": [
    "income = np.asarray(df['Income'])\n",
    "df.drop('Income', axis=1, inplace=True)"
   ]
  },
  {
   "cell_type": "code",
   "execution_count": 34,
   "metadata": {},
   "outputs": [],
   "source": [
    "col_names = df.columns\n",
    "categorical = [var for var in df.columns if df[var].dtype=='O']"
   ]
  },
  {
   "cell_type": "code",
   "execution_count": 35,
   "metadata": {},
   "outputs": [],
   "source": [
    "dict_fills = {}\n",
    "for each_column in col_names:\n",
    "    if each_column in df.select_dtypes(['object']).columns:\n",
    "        dict_fills[each_column] = df[each_column].mode()[0]\n",
    "        df[each_column].fillna(dict_fills[each_column], inplace = True)\n",
    "    elif each_column in df.select_dtypes(['float64']).columns:\n",
    "        dict_fills[each_column] = df[each_column].median()\n",
    "        df[each_column].fillna(dict_fills[each_column], inplace = True)\n",
    "    else:\n",
    "        dict_fills[each_column] = df[each_column].median()\n",
    "        df[each_column].fillna(dict_fills[each_column], inplace = True)"
   ]
  },
  {
   "cell_type": "code",
   "execution_count": 36,
   "metadata": {},
   "outputs": [],
   "source": [
    "# Removing the outliers\n",
    "\n",
    "def removeOutliers(data, columns):\n",
    "    first_time = True\n",
    "    for col in columns:\n",
    "        Q3 = np.quantile(data[col], 0.75)\n",
    "        Q1 = np.quantile(data[col], 0.25)\n",
    "        IQR = Q3 - Q1\n",
    "        lower_range = Q1 - (1.5 * IQR)\n",
    "        upper_range = Q3 + (1.5 * IQR)\n",
    "\n",
    "        if (lower_range != upper_range):\n",
    "            outlier_list = [x for x in data[col] if ((x < lower_range) or (x > upper_range))]\n",
    "            if (first_time):\n",
    "                array_outlier = data.index[data[col].isin(outlier_list) == True]\n",
    "                first_time = False\n",
    "            else:\n",
    "                array_outlier = np.hstack((array_outlier, data.index[data[col].isin(outlier_list) == True]))\n",
    "\n",
    "    data.drop(np.unique(array_outlier), axis= 0 , inplace = True)\n",
    "    data.reset_index(drop=True, inplace = True)\n",
    "\n",
    "    return (data, array_outlier)\n",
    "\n",
    "numeric_col = []\n",
    "for each_column in df.select_dtypes(['int64']).columns:\n",
    "    numeric_col.append(each_column)\n",
    "for each_column in df.select_dtypes(['float64']).columns:\n",
    "    numeric_col.append(each_column)\n",
    "\n",
    "\n",
    "df, drop_indexes = removeOutliers (df, numeric_col)\n",
    "income = np.delete(income, np.unique(drop_indexes))"
   ]
  },
  {
   "cell_type": "code",
   "execution_count": 37,
   "metadata": {},
   "outputs": [],
   "source": [
    "# creating instance of one-hot-encoder\n",
    "enc = preprocessing.OneHotEncoder(handle_unknown='ignore')\n",
    "# passing bridge-types-cat column (label encoded values of bridge_types)\n",
    "onehotencoder_data = enc.fit_transform(df[categorical]).toarray()\n",
    "# make a dataframe for new column\n",
    "list_columns_name = []\n",
    "for i in range(len(onehotencoder_data[0])):\n",
    "    list_columns_name.append('Type '+ str(i+1))\n",
    "enc_df = pd.DataFrame(data=onehotencoder_data , columns= list_columns_name)\n",
    "\n",
    "# merge with main df bridge_df on key values\n",
    "df = df.join(enc_df)\n",
    "for col in df.select_dtypes(['object']).columns:\n",
    "    df.drop(col, axis=1, inplace=True)"
   ]
  },
  {
   "cell_type": "code",
   "execution_count": 38,
   "metadata": {},
   "outputs": [],
   "source": [
    "learn_scaler=StandardScaler().fit(df)\n",
    "standard_X = learn_scaler.transform(df)"
   ]
  },
  {
   "cell_type": "code",
   "execution_count": 39,
   "metadata": {},
   "outputs": [],
   "source": [
    "data_test = 'Adult_TestDataset.csv'\n",
    "X_test = pd.read_csv(data_test)\n",
    "\n",
    "X_test.replace({'Income': {' <=50K.': ' <=50K', ' >50K.': ' >50K'}}, inplace=True)\n",
    "\n",
    "y_test = np.asarray(X_test['Income'])\n",
    "X_test.drop('Income', axis=1, inplace=True)\n",
    "X_test.replace(' ?', np.nan, inplace=True)"
   ]
  },
  {
   "cell_type": "code",
   "execution_count": 40,
   "metadata": {},
   "outputs": [],
   "source": [
    "for each_column in X_test.columns:\n",
    "    if each_column in X_test.select_dtypes(['object']).columns:\n",
    "        X_test[each_column].fillna(dict_fills[each_column], inplace = True)\n",
    "    elif each_column in X_test.select_dtypes(['float64']).columns:\n",
    "        X_test[each_column].fillna(dict_fills[each_column], inplace = True)\n",
    "    else:\n",
    "        X_test[each_column].fillna(dict_fills[each_column], inplace = True)\n",
    "\n",
    "\n",
    "onehotencoder_data = enc.transform(X_test[X_test.select_dtypes(['object']).columns]).toarray()\n",
    "list_columns_name = []\n",
    "for i in range(len(onehotencoder_data[0])):\n",
    "    list_columns_name.append('Type '+ str(i+1))\n",
    "enc_test = pd.DataFrame(data=onehotencoder_data , columns= list_columns_name)\n",
    "X_test = X_test.join(enc_test)\n",
    "for col in X_test.select_dtypes(['object']).columns:\n",
    "    X_test.drop(col, axis=1, inplace=True)"
   ]
  },
  {
   "cell_type": "code",
   "execution_count": 41,
   "metadata": {},
   "outputs": [],
   "source": [
    "standard_X_test = learn_scaler.transform(X_test)"
   ]
  },
  {
   "cell_type": "code",
   "execution_count": 42,
   "metadata": {},
   "outputs": [],
   "source": [
    "def set_hyperparameter (pool_classifiers, X_dsel, y_dsel, standard_X_test, y_test):\n",
    "\n",
    "    k_range = np.linspace(2, 40, 39, dtype= int)\n",
    "\n",
    "    score_of_best_setting = 0\n",
    "    for kn in k_range :\n",
    "            kn = int(kn)\n",
    "            dynamic_selection_model = KNOP(pool_classifiers=pool_classifiers, k=kn,  random_state=None)\n",
    "            dynamic_selection_model.fit(X_dsel, y_dsel)\n",
    "            y_predict = dynamic_selection_model.predict(standard_X_test)\n",
    "            precision, recall, fscore, support = score(y_test, y_predict)\n",
    "\n",
    "            score_of_setting = (dynamic_selection_model.score(standard_X_test, y_test)*1) + ((fscore[0])*1) + ((fscore[1])*2)\n",
    "            if (score_of_setting > score_of_best_setting):\n",
    "                score_of_best_setting = score_of_setting\n",
    "                best_setting = kn\n",
    "    return(best_setting)"
   ]
  },
  {
   "cell_type": "code",
   "execution_count": 43,
   "metadata": {},
   "outputs": [
    {
     "name": "stdout",
     "output_type": "stream",
     "text": [
      "20\n",
      "              precision    recall  f1-score   support\n",
      "\n",
      "       <=50K       0.88      0.91      0.89     12435\n",
      "        >50K       0.66      0.60      0.63      3846\n",
      "\n",
      "    accuracy                           0.83     16281\n",
      "   macro avg       0.77      0.75      0.76     16281\n",
      "weighted avg       0.83      0.83      0.83     16281\n",
      "\n"
     ]
    },
    {
     "data": {
      "image/png": "[encoded data removed]",
      "text/plain": [
       "<Figure size 640x480 with 2 Axes>"
      ]
     },
     "metadata": {},
     "output_type": "display_data"
    }
   ],
   "source": [
    "X_train, X_dsel, y_train, y_dsel = train_test_split(standard_X, income, test_size=0.5, random_state=0, stratify = income)\n",
    "\n",
    "# Train a pool of 10 classifiers\n",
    "pool_classifiers = BaggingClassifier( n_estimators=10)\n",
    "pool_classifiers.fit(X_train, y_train)\n",
    "\n",
    "# Set Hyperparameter\n",
    "k = set_hyperparameter(pool_classifiers, X_dsel, y_dsel, standard_X_test, y_test)\n",
    "print(k)\n",
    "\n",
    "# Initialize the DES model\n",
    "dynamic_selection_model = KNOP(pool_classifiers=pool_classifiers, k=k,  random_state=None)\n",
    "dynamic_selection_model.fit(X_dsel, y_dsel)\n",
    "\n",
    "y_predict = dynamic_selection_model.predict(standard_X_test)\n",
    "print(classification_report(y_test, y_predict))\n",
    "cm = confusion_matrix(y_test, y_predict, labels=dynamic_selection_model.classes_)\n",
    "disp = ConfusionMatrixDisplay(confusion_matrix=cm, display_labels=dynamic_selection_model.classes_)\n",
    "disp.plot()\n",
    "plt.show() "
   ]
  },
  {
   "cell_type": "code",
   "execution_count": 44,
   "metadata": {},
   "outputs": [
    {
     "data": {
      "text/plain": [
       "0.8322584607825072"
      ]
     },
     "execution_count": 44,
     "metadata": {},
     "output_type": "execute_result"
    }
   ],
   "source": [
    "dynamic_selection_model.score(standard_X_test, y_test)"
   ]
  },
  {
   "cell_type": "code",
   "execution_count": 45,
   "metadata": {},
   "outputs": [
    {
     "data": {
      "text/plain": [
       "array([[1.00000000e+00, 0.00000000e+00],\n",
       "       [9.99725422e-01, 2.74578156e-04],\n",
       "       [9.99908584e-01, 9.14158739e-05],\n",
       "       ...,\n",
       "       [0.00000000e+00, 1.00000000e+00],\n",
       "       [9.99993210e-01, 6.79035870e-06],\n",
       "       [3.22954647e-02, 9.67704535e-01]])"
      ]
     },
     "execution_count": 45,
     "metadata": {},
     "output_type": "execute_result"
    }
   ],
   "source": [
    "dynamic_selection_model.predict_proba(standard_X_test)"
   ]
  }
 ],
 "metadata": {
  "kernelspec": {
   "display_name": "Python 3.10.5 64-bit",
   "language": "python",
   "name": "python3"
  },
  "language_info": {
   "codemirror_mode": {
    "name": "ipython",
    "version": 3
   },
   "file_extension": ".py",
   "mimetype": "text/x-python",
   "name": "python",
   "nbconvert_exporter": "python",
   "pygments_lexer": "ipython3",
   "version": "3.10.5"
  },
  "orig_nbformat": 4,
  "vscode": {
   "interpreter": {
    "hash": "0a2ce51783487cb738dcf95c986f48432f9d5d3f1a7ed222d040a760409c430c"
   }
  }
 },
 "nbformat": 4,
 "nbformat_minor": 2
}
