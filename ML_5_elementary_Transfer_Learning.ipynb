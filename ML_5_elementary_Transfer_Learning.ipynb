{
  "cells": [
    {
      "cell_type": "code",
      "execution_count": 37,
      "metadata": {
        "id": "SSWByzmw_jyr"
      },
      "outputs": [],
      "source": [
        "from keras.applications import EfficientNetB7\n",
        "from keras.datasets.cifar10 import load_data\n",
        "import tensorflow as tf\n",
        "from keras.models import Model, Sequential\n",
        "import numpy as np\n",
        "from keras.layers import Dense, Input, Dropout, UpSampling2D, Flatten\n",
        "from keras.preprocessing.image import ImageDataGenerator\n",
        "from zipfile import ZipFile"
      ]
    },
    {
      "cell_type": "markdown",
      "metadata": {
        "id": "hlbEsiHz7UnL"
      },
      "source": [
        "# Download Cats and Dogs Dataset"
      ]
    },
    {
      "cell_type": "code",
      "execution_count": 38,
      "metadata": {
        "colab": {
          "base_uri": "https://localhost:8080/"
        },
        "id": "cHJ8Nxj-7HtE",
        "outputId": "ce02fcd2-0b8a-4b92-ef08-83a4eee1dfb2"
      },
      "outputs": [
        {
          "name": "stderr",
          "output_type": "stream",
          "text": [
            "'wget' is not recognized as an internal or external command,\n",
            "operable program or batch file.\n"
          ]
        }
      ],
      "source": [
        "!wget --no-check-certificate \\\n",
        "    https://storage.googleapis.com/mledu-datasets/cats_and_dogs_filtered.zip \\\n",
        "    -O cats_and_dogs.zip"
      ]
    },
    {
      "cell_type": "markdown",
      "metadata": {
        "id": "M7Gi7epm7uuV"
      },
      "source": [
        "# Extract zip file"
      ]
    },
    {
      "cell_type": "code",
      "execution_count": 39,
      "metadata": {
        "id": "x7hLnV-U7kDT"
      },
      "outputs": [],
      "source": [
        "zip_ref = ZipFile('cats_and_dogs.zip', 'r')\n",
        "zip_ref.extractall('cats_and_dogs')\n",
        "zip_ref.close()"
      ]
    },
    {
      "cell_type": "code",
      "execution_count": 40,
      "metadata": {
        "id": "09gAS_fj8kee"
      },
      "outputs": [],
      "source": [
        "train_generator = ImageDataGenerator(rescale=1.0/255.0)\n",
        "test_generator = ImageDataGenerator(rescale=1.0/255.0)\n"
      ]
    },
    {
      "cell_type": "code",
      "execution_count": 41,
      "metadata": {
        "id": "JT8UA_z9_Nq0"
      },
      "outputs": [],
      "source": [
        "train_path = 'cats_and_dogs/cats_and_dogs_filtered/train'\n",
        "test_path = 'cats_and_dogs/cats_and_dogs_filtered/validation'"
      ]
    },
    {
      "cell_type": "code",
      "execution_count": 42,
      "metadata": {
        "colab": {
          "base_uri": "https://localhost:8080/"
        },
        "id": "kchZEVqj_HNm",
        "outputId": "82a8b48b-e211-4757-de13-725648636803"
      },
      "outputs": [
        {
          "name": "stdout",
          "output_type": "stream",
          "text": [
            "Found 2000 images belonging to 2 classes.\n",
            "Found 1000 images belonging to 2 classes.\n"
          ]
        }
      ],
      "source": [
        "data_train = train_generator.flow_from_directory(train_path, class_mode='binary', target_size=(150, 150), subset='training')\n",
        "data_test = train_generator.flow_from_directory(test_path, class_mode='binary', target_size=(150, 150))"
      ]
    },
    {
      "cell_type": "code",
      "execution_count": 44,
      "metadata": {
        "id": "L07U1C9r_uMu"
      },
      "outputs": [],
      "source": [
        "ENet = EfficientNetB7(input_shape=(150, 150, 3), include_top=False, weights='imagenet')"
      ]
    },
    {
      "cell_type": "code",
      "execution_count": 45,
      "metadata": {
        "id": "nhW__ng4_42k"
      },
      "outputs": [],
      "source": [
        "ENet.trainable = False"
      ]
    },
    {
      "cell_type": "code",
      "execution_count": 46,
      "metadata": {
        "id": "R61NBeN7LGRW"
      },
      "outputs": [],
      "source": [
        "mlp = Sequential()\n",
        "mlp.add(Flatten())\n",
        "mlp.add(Dense(1024, activation=tf.keras.layers.LeakyReLU(0.01)))\n",
        "mlp.add(Dropout(0.2))\n",
        "mlp.add(Dense(256, activation=tf.keras.layers.LeakyReLU(0.01)))\n",
        "mlp.add(Dense(1, activation='sigmoid'))"
      ]
    },
    {
      "cell_type": "code",
      "execution_count": 47,
      "metadata": {
        "id": "c529ARVfLaym"
      },
      "outputs": [],
      "source": [
        "model = Sequential([ENet, mlp])"
      ]
    },
    {
      "cell_type": "code",
      "execution_count": 48,
      "metadata": {
        "id": "fW9sN7q6Lhhl"
      },
      "outputs": [],
      "source": [
        "model.compile(optimizer='adam', loss=tf.keras.losses.binary_crossentropy, metrics=['accuracy'])"
      ]
    },
    {
      "cell_type": "code",
      "execution_count": 49,
      "metadata": {
        "colab": {
          "base_uri": "https://localhost:8080/"
        },
        "id": "OjddjdTiLjyk",
        "outputId": "b79b487f-b8f4-455f-cbde-e8b1aac032cd"
      },
      "outputs": [
        {
          "name": "stdout",
          "output_type": "stream",
          "text": [
            "Epoch 1/2\n",
            "63/63 [==============================] - 263s 4s/step - loss: 10.1186 - accuracy: 0.5045\n",
            "Epoch 2/2\n",
            "63/63 [==============================] - 236s 4s/step - loss: 1.8400 - accuracy: 0.5055\n"
          ]
        },
        {
          "data": {
            "text/plain": [
              "<keras.callbacks.History at 0x27c02fcf1f0>"
            ]
          },
          "execution_count": 49,
          "metadata": {},
          "output_type": "execute_result"
        }
      ],
      "source": [
        "model.fit(data_train, epochs=2)"
      ]
    },
    {
      "cell_type": "code",
      "execution_count": 50,
      "metadata": {
        "colab": {
          "base_uri": "https://localhost:8080/"
        },
        "id": "vl9mvHaFN_p9",
        "outputId": "0f300771-773e-48c4-d96d-d827ab8b9123"
      },
      "outputs": [
        {
          "name": "stdout",
          "output_type": "stream",
          "text": [
            "32/32 [==============================] - 107s 3s/step - loss: 0.8625 - accuracy: 0.5000\n"
          ]
        },
        {
          "data": {
            "text/plain": [
              "[0.8625397086143494, 0.5]"
            ]
          },
          "execution_count": 50,
          "metadata": {},
          "output_type": "execute_result"
        }
      ],
      "source": [
        "model.evaluate(data_test)"
      ]
    }
  ],
  "metadata": {
    "colab": {
      "provenance": []
    },
    "kernelspec": {
      "display_name": "Python 3",
      "language": "python",
      "name": "python3"
    },
    "language_info": {
      "codemirror_mode": {
        "name": "ipython",
        "version": 3
      },
      "file_extension": ".py",
      "mimetype": "text/x-python",
      "name": "python",
      "nbconvert_exporter": "python",
      "pygments_lexer": "ipython3",
      "version": "3.10.9"
    },
    "vscode": {
      "interpreter": {
        "hash": "2a7764e5d00a7218a57bbd60a655505fc2342e727bda0f027b1e5f6d4545df63"
      }
    }
  },
  "nbformat": 4,
  "nbformat_minor": 0
}
